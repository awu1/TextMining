{
 "cells": [
  {
   "cell_type": "code",
   "execution_count": 25,
   "metadata": {
    "collapsed": false
   },
   "outputs": [
    {
     "name": "stdout",
     "output_type": "stream",
     "text": [
      "\n",
      "The last 80 tweets about Donald Trump has an average polarity of 0.0832470914502\n",
      "The last 80 tweets about Hilary Clinton has an average polarity of -0.0292632921007\n",
      "\n",
      "The last 80 tweets about each of the presidential candidates show that Donald Trump is the more favorable presidential candidate\n"
     ]
    }
   ],
   "source": [
    "from pattern.web import Twitter\n",
    "from pattern.en import sentiment\n",
    "\n",
    "t = Twitter() #twitter object created\n",
    "i = None\n",
    "polarity_trump = 0\n",
    "polarity_clinton = 0\n",
    "dt_count = 0\n",
    "\n",
    "for tweet in t.search('donald trump', start=i, count=80): #search method inside Twitter object; t.searh = list\n",
    "    #tweet_list =  t.search('donald trump', start=i, count=50)\n",
    "    #print tweet.text\n",
    "    sentiment_tuple = sentiment(tweet.text)\n",
    "    #print sentiment_tuple\n",
    "    polarity_trump += sentiment_tuple[0]\n",
    "    dt_count += 1\n",
    "    i = tweet.id\n",
    "#print tweet_list\n",
    "\n",
    "j = None\n",
    "hc_count = 0\n",
    "for tweet in t.search('hilary clinton', start=j, count=80): #search method inside Twitter object; t.searh = list\n",
    "    #tweet_list =  t.search('hilary clinton', start=i, count=50)\n",
    "    #print tweet.text\n",
    "    sentiment_tuple = sentiment(tweet.text)\n",
    "    #print sentiment_tuple\n",
    "    polarity_clinton += sentiment_tuple[0]\n",
    "    hc_count += 1\n",
    "    i = tweet.id\n",
    "#print tweet_list\n",
    "\n",
    "print\n",
    "print \"The last\", dt_count,\"tweets about Donald Trump has an average polarity of\", polarity_trump/dt_count\n",
    "print \"The last\", hc_count, \"tweets about Hilary Clinton has an average polarity of\", polarity_clinton/hc_count\n",
    "print \n",
    "\n",
    "if(polarity_trump > polarity_clinton):\n",
    "    print \"The last\", dt_count,\"tweets about each of the presidential candidates show that Donald Trump is the more favorable presidential candidate\"\n",
    "else:\n",
    "    print \"The last\", dt_count,\"tweets about each of the presidential candidates show that Hilary Clinton is the more favorable presidential candidate\"\n"
   ]
  },
  {
   "cell_type": "code",
   "execution_count": null,
   "metadata": {
    "collapsed": true
   },
   "outputs": [],
   "source": []
  },
  {
   "cell_type": "code",
   "execution_count": null,
   "metadata": {
    "collapsed": true
   },
   "outputs": [],
   "source": []
  }
 ],
 "metadata": {
  "kernelspec": {
   "display_name": "Python 2",
   "language": "python",
   "name": "python2"
  },
  "language_info": {
   "codemirror_mode": {
    "name": "ipython",
    "version": 2
   },
   "file_extension": ".py",
   "mimetype": "text/x-python",
   "name": "python",
   "nbconvert_exporter": "python",
   "pygments_lexer": "ipython2",
   "version": "2.7.6"
  }
 },
 "nbformat": 4,
 "nbformat_minor": 1
}
