{
 "cells": [
  {
   "cell_type": "code",
   "execution_count": null,
   "metadata": {
    "collapsed": false
   },
   "outputs": [
    {
     "name": "stdout",
     "output_type": "stream",
     "text": [
      " The last 100 tweets about Donald Trump has an average polarity of"
     ]
    }
   ],
   "source": [
    "from pattern.web import Twitter\n",
    "from pattern.en import sentiment\n",
    "\n",
    "import matplotlib.pyplot as plt\n",
    "import matplotlib.mlab as mlab\n",
    "from sklearn.datasets import *\n",
    "import numpy as np\n",
    "\n",
    "t = Twitter() #twitter object created\n",
    "i = None\n",
    "\n",
    "def draw_histogram(polarity_list, name):\n",
    "    # the histogram of the data\n",
    "    n, bins, patches = plt.hist(polarity_list, 50, normed=1, facecolor='green', alpha=0.75)\n",
    "    plt.xlabel('Polarity')\n",
    "    plt.ylabel('Frequency')\n",
    "    plt.title('Histogram of '+name)\n",
    "    plt.axis([-1,1,0,100])\n",
    "    plt.grid(True)\n",
    "    plt.show()\n",
    "    \n",
    "polarity_list = []\n",
    "\n",
    "def find_avg_polarity(phrase):\n",
    "    polarity = 0\n",
    "    count = 0\n",
    "    for i in range(10):\n",
    "        for tweet in t.search(phrase, start=i, count=10): #search method inside Twitter object; t.searh = list\n",
    "        #print tweet.text\n",
    "            sentiment_tuple = sentiment(tweet.text)\n",
    "            polarity += sentiment_tuple[0]\n",
    "            count += 1\n",
    "            polarity_list.append(sentiment_tuple[0])\n",
    "            i = tweet.id\n",
    "    draw_histogram(polarity_list, phrase)\n",
    "    return polarity/count\n",
    "    \n",
    "print \"The last 100 tweets about Donald Trump has an average polarity of\", find_avg_polarity('donald trump')\n",
    "print \"The last 100 tweets about Hilary Clinton has an average polarity of\", find_avg_polarity('hilary clinton')\n",
    "\n",
    "if(find_avg_polarity('donald trump') > find_avg_polarity('hilary clinton')):\n",
    "    print \"The last 100 tweets about each of the presidential candidates show that Donald Trump is the more favorable presidential candidate\"\n",
    "else:\n",
    "    print \"The last 100 tweets about each of the presidential candidates show that Hilary Clinton is the more favorable presidential candidate\"\n"
   ]
  },
  {
   "cell_type": "code",
   "execution_count": null,
   "metadata": {
    "collapsed": true
   },
   "outputs": [],
   "source": []
  }
 ],
 "metadata": {
  "kernelspec": {
   "display_name": "Python 2",
   "language": "python",
   "name": "python2"
  },
  "language_info": {
   "codemirror_mode": {
    "name": "ipython",
    "version": 2
   },
   "file_extension": ".py",
   "mimetype": "text/x-python",
   "name": "python",
   "nbconvert_exporter": "python",
   "pygments_lexer": "ipython2",
   "version": "2.7.6"
  }
 },
 "nbformat": 4,
 "nbformat_minor": 1
}
